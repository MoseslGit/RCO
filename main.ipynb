{
 "cells": [
  {
   "cell_type": "code",
   "execution_count": 8,
   "metadata": {},
   "outputs": [],
   "source": [
    "import openai\n",
    "from proof_sketch_control import Proof_sketch_controller\n",
    "import json\n",
    "from IPython.display import Markdown, display"
   ]
  },
  {
   "cell_type": "code",
   "execution_count": 2,
   "metadata": {},
   "outputs": [],
   "source": [
    "# Configs for run\n",
    "client = openai.Client()\n",
    "with open('GPT_models/proof_sketch_gpt/config.json') as config_file:\n",
    "    proof_sketch_config = json.load(config_file)"
   ]
  },
  {
   "cell_type": "code",
   "execution_count": 3,
   "metadata": {},
   "outputs": [],
   "source": [
    "proof_sketch_gpt = Proof_sketch_controller(client, proof_sketch_config['assistant_id'])"
   ]
  },
  {
   "cell_type": "code",
   "execution_count": 4,
   "metadata": {},
   "outputs": [],
   "source": [
    "response = proof_sketch_gpt.query_gpt(\"Let $G$ be a group. Suppose $H$ is a subgroup of $G$. Then $H$ is a group.\")\n",
    "proof_sketch_gpt.close_thread()"
   ]
  },
  {
   "cell_type": "code",
   "execution_count": 9,
   "metadata": {},
   "outputs": [
    {
     "data": {
      "text/markdown": [
       "Role: assistant\n",
       "Message:\n",
       "To prove that $H$ is a group, we need to show that it satisfies the four group axioms: closure, associativity, the existence of an identity element, and the existence of inverses.\n",
       "\n",
       "1. Closure: For any elements $a, b \\in H$, their product $ab$ is also in $H$, since $H$ is a subgroup of $G$.\n",
       "\n",
       "2. Associativity: This property holds true for any elements in $H$, as it is inherited from the associativity of the group $G$.\n",
       "\n",
       "3. Identity Element: Since $H$ is a subgroup of $G$, it contains the identity element $e$ of $G$.\n",
       "\n",
       "4. Inverses: For any element $a \\in H$, its inverse $a^{-1}$ is also in $H$, as inverses are unique and $H$ is closed under multiplication.\n",
       "\n",
       "Therefore, since $H$ satisfies the four group axioms, it is indeed a group.\n"
      ],
      "text/plain": [
       "<IPython.core.display.Markdown object>"
      ]
     },
     "metadata": {},
     "output_type": "display_data"
    },
    {
     "data": {
      "text/markdown": [
       "Role: user\n",
       "Message:\n",
       "Let $G$ be a group. Suppose $H$ is a subgroup of $G$. Then $H$ is a group.\n"
      ],
      "text/plain": [
       "<IPython.core.display.Markdown object>"
      ]
     },
     "metadata": {},
     "output_type": "display_data"
    }
   ],
   "source": [
    "messages = []\n",
    "for message in response.data:\n",
    "    message_content = message.content[0].text.value\n",
    "    role = message.role\n",
    "    formatted_message = f\"Role: {role}\\nMessage:\\n{message_content}\\n\"\n",
    "    messages.append(formatted_message)\n",
    "\n",
    "for message in messages:\n",
    "    display(Markdown(message))"
   ]
  }
 ],
 "metadata": {
  "kernelspec": {
   "display_name": ".venv",
   "language": "python",
   "name": "python3"
  },
  "language_info": {
   "codemirror_mode": {
    "name": "ipython",
    "version": 3
   },
   "file_extension": ".py",
   "mimetype": "text/x-python",
   "name": "python",
   "nbconvert_exporter": "python",
   "pygments_lexer": "ipython3",
   "version": "3.10.7"
  }
 },
 "nbformat": 4,
 "nbformat_minor": 2
}
