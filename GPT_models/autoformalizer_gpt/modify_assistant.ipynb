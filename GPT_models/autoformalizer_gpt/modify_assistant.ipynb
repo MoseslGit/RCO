{
 "cells": [
  {
   "cell_type": "code",
   "execution_count": null,
   "metadata": {},
   "outputs": [],
   "source": [
    "import json\n",
    "from openai import OpenAI\n",
    "\n",
    "# Load client\n",
    "client = OpenAI()\n",
    "\n",
    "# Load config\n",
    "with open('config.json') as config_file:\n",
    "    config = json.load(config_file)"
   ]
  },
  {
   "cell_type": "code",
   "execution_count": null,
   "metadata": {},
   "outputs": [],
   "source": [
    "# # Create assistant\n",
    "# my_assistant = client.beta.assistants.create(\n",
    "#     instructions=config['instructions'],\n",
    "#     name=config['name'],\n",
    "#     tools=config['tools'],\n",
    "#     model=config['model'],\n",
    "#     )\n",
    "# print(my_assistant)"
   ]
  },
  {
   "cell_type": "code",
   "execution_count": null,
   "metadata": {},
   "outputs": [],
   "source": [
    "# Update assistant \n",
    "my_assistant = client.beta.assistants.retrieve(config['assistant_id'])\n",
    "print(my_assistant)\n",
    "# Check if the configuration has changed\n",
    "config_changed = False\n",
    "keys_to_check = ['instructions', 'name', 'tools', 'model', 'file_ids']\n",
    "for key in keys_to_check:\n",
    "    if my_assistant[key] != config[key]:\n",
    "        config_changed = True\n",
    "        break\n",
    "\n",
    "# Update the assistant if the configuration has changed\n",
    "if config_changed:\n",
    "    # Check and add new files\n",
    "    current_files = [f['file_id'] for f in my_assistant.get('files', [])]\n",
    "    new_files = [f for f in config['file_ids'] if f not in current_files]\n",
    "\n",
    "    for file_id in new_files:\n",
    "        assistant_file = client.beta.assistants.files.create(\n",
    "            assistant_id=config['assistant_id'],\n",
    "            file_id=file_id\n",
    "        )\n",
    "        print(f\"Added new file: {file_id}\")\n",
    "\n",
    "    my_updated_assistant = client.beta.assistants.update(\n",
    "        assistant_id=config['assistant_id'],\n",
    "        instructions=config['instructions'],\n",
    "        name=config['name'],\n",
    "        tools=config['tools'],\n",
    "        model=config['model'],\n",
    "        file_ids=config['file_ids'],\n",
    "    )\n",
    "    print(\"Assistant updated.\")\n",
    "    print(my_updated_assistant)\n",
    "else:\n",
    "    print(\"No changes detected.\")"
   ]
  },
  {
   "cell_type": "code",
   "execution_count": null,
   "metadata": {},
   "outputs": [],
   "source": [
    "# Add/Remove files from OpenAI databases\n",
    "# client.files.create(\n",
    "#   file=open(\"\"),\n",
    "#   purpose=\"assistants\"\n",
    "# )"
   ]
  }
 ],
 "metadata": {
  "kernelspec": {
   "display_name": ".venv",
   "language": "python",
   "name": "python3"
  },
  "language_info": {
   "codemirror_mode": {
    "name": "ipython",
    "version": 3
   },
   "file_extension": ".py",
   "mimetype": "text/x-python",
   "name": "python",
   "nbconvert_exporter": "python",
   "pygments_lexer": "ipython3",
   "version": "3.10.7"
  }
 },
 "nbformat": 4,
 "nbformat_minor": 2
}
